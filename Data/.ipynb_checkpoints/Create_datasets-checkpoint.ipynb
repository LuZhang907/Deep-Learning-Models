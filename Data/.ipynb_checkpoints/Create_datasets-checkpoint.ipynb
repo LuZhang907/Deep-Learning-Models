{
 "cells": [
  {
   "cell_type": "code",
   "execution_count": 1,
   "id": "a9f9ddc5-25da-47f6-889c-39112ef381b7",
   "metadata": {},
   "outputs": [],
   "source": [
    "import warnings\n",
    "warnings.filterwarnings('ignore')"
   ]
  },
  {
   "cell_type": "code",
   "execution_count": 10,
   "id": "11187314-d1b9-4605-9bf6-ccc41bf52014",
   "metadata": {},
   "outputs": [],
   "source": [
    "from pathlib import Path\n",
    "import requests\n",
    "from io import BytesIO\n",
    "from zipfile import ZipFile, BadZipFile\n",
    "\n",
    "import numpy as np\n",
    "import pandas as pd\n",
    "import pandas_datareader.data as web\n",
    "from sklearn.datasets import fetch_openml\n",
    "\n",
    "pd.set_option('display.expand_frame_repr', False)"
   ]
  },
  {
   "cell_type": "code",
   "execution_count": 12,
   "id": "3ddc3936-fe19-4a76-9711-c40369034267",
   "metadata": {},
   "outputs": [],
   "source": [
    "# set data store path\n",
    "DATA_STORE = Path('assets.h5')"
   ]
  },
  {
   "cell_type": "markdown",
   "id": "1d4c58b0-b0dd-4bf6-9039-cbb0b9b20956",
   "metadata": {},
   "source": [
    "### Quandi Wiki Prices"
   ]
  },
  {
   "cell_type": "code",
   "execution_count": 13,
   "id": "bd13dbd9-46be-427e-8bcd-6c21b17d61ad",
   "metadata": {},
   "outputs": [],
   "source": [
    "\n",
    "df = (pd.read_csv('wiki_prices.csv',\n",
    "                 parse_dates=['date'],\n",
    "                 index_col=['date', 'ticker'],\n",
    "                 infer_datetime_format=True)\n",
    "     .sort_index())"
   ]
  },
  {
   "cell_type": "code",
   "execution_count": 15,
   "id": "b640c117-2f63-439b-bf4b-c6f335139bdb",
   "metadata": {},
   "outputs": [
    {
     "name": "stdout",
     "output_type": "stream",
     "text": [
      "<class 'pandas.core.frame.DataFrame'>\n",
      "MultiIndex: 15389314 entries, (Timestamp('1962-01-02 00:00:00'), 'ARNC') to (Timestamp('2018-03-27 00:00:00'), 'ZUMZ')\n",
      "Data columns (total 12 columns):\n",
      " #   Column       Dtype  \n",
      "---  ------       -----  \n",
      " 0   open         float64\n",
      " 1   high         float64\n",
      " 2   low          float64\n",
      " 3   close        float64\n",
      " 4   volume       float64\n",
      " 5   ex-dividend  float64\n",
      " 6   split_ratio  float64\n",
      " 7   adj_open     float64\n",
      " 8   adj_high     float64\n",
      " 9   adj_low      float64\n",
      " 10  adj_close    float64\n",
      " 11  adj_volume   float64\n",
      "dtypes: float64(12)\n",
      "memory usage: 1.4+ GB\n",
      "None\n"
     ]
    }
   ],
   "source": [
    "print(df.info())"
   ]
  },
  {
   "cell_type": "code",
   "execution_count": 19,
   "id": "5801f7d4-608b-4575-8343-03d768d49f04",
   "metadata": {
    "scrolled": true
   },
   "outputs": [],
   "source": [
    "# covert to fast HDF format\n",
    "with pd.HDFStore(DATA_STORE) as store:\n",
    "    store.put('quandl/wiki/prices', df)"
   ]
  },
  {
   "cell_type": "markdown",
   "id": "1353f8fd-b9df-4944-abe0-e8f50887317c",
   "metadata": {},
   "source": [
    "### Wiki Prices Metadata"
   ]
  },
  {
   "cell_type": "code",
   "execution_count": 22,
   "id": "c86679e3-d87c-472e-9e20-c95b9d3769f7",
   "metadata": {
    "scrolled": true
   },
   "outputs": [
    {
     "name": "stdout",
     "output_type": "stream",
     "text": [
      "<class 'pandas.core.frame.DataFrame'>\n",
      "RangeIndex: 3199 entries, 0 to 3198\n",
      "Data columns (total 2 columns):\n",
      " #   Column  Non-Null Count  Dtype \n",
      "---  ------  --------------  ----- \n",
      " 0   code    3199 non-null   object\n",
      " 1   name    3199 non-null   object\n",
      "dtypes: object(2)\n",
      "memory usage: 50.1+ KB\n",
      "None\n"
     ]
    }
   ],
   "source": [
    "df = pd.read_csv('wiki_stocks.csv')\n",
    "print(df.info())\n",
    "with pd.HDFStore(DATA_STORE) as store:\n",
    "    store.put('quandl/wiki/stocks', df)"
   ]
  },
  {
   "cell_type": "markdown",
   "id": "33560ee3-f658-46e1-9914-dbd8a4f10e96",
   "metadata": {},
   "source": [
    "### S&P500 prices"
   ]
  },
  {
   "cell_type": "code",
   "execution_count": 23,
   "id": "f3984507-8e8d-44a6-8883-76efbc494c04",
   "metadata": {},
   "outputs": [
    {
     "name": "stdout",
     "output_type": "stream",
     "text": [
      "<class 'pandas.core.frame.DataFrame'>\n",
      "DatetimeIndex: 2609 entries, 2014-09-02 to 2024-08-30\n",
      "Data columns (total 1 columns):\n",
      " #   Column  Non-Null Count  Dtype  \n",
      "---  ------  --------------  -----  \n",
      " 0   close   2517 non-null   float64\n",
      "dtypes: float64(1)\n",
      "memory usage: 40.8 KB\n",
      "None\n"
     ]
    }
   ],
   "source": [
    "df = web.DataReader(name='SP500', data_source='fred', start=2009).squeeze().to_frame('close')\n",
    "print(df.info())\n",
    "with pd.HDFStore(DATA_STORE) as store:\n",
    "    store.put('sp500/fred', df)"
   ]
  },
  {
   "cell_type": "code",
   "execution_count": 27,
   "id": "3d6dc2e3-b6d0-474c-9b5a-d16320bab493",
   "metadata": {},
   "outputs": [
    {
     "name": "stdout",
     "output_type": "stream",
     "text": [
      "<class 'pandas.core.frame.DataFrame'>\n",
      "DatetimeIndex: 17700 entries, 1950-01-03 to 2019-12-31\n",
      "Data columns (total 5 columns):\n",
      " #   Column  Non-Null Count  Dtype  \n",
      "---  ------  --------------  -----  \n",
      " 0   open    17700 non-null  float64\n",
      " 1   high    17700 non-null  float64\n",
      " 2   low     17700 non-null  float64\n",
      " 3   close   17700 non-null  float64\n",
      " 4   volume  17700 non-null  int64  \n",
      "dtypes: float64(4), int64(1)\n",
      "memory usage: 829.7 KB\n",
      "None\n"
     ]
    }
   ],
   "source": [
    "# store data from 1950-2020\n",
    "sp500_stooq = (pd.read_csv('^spx_d.csv', index_col=0,\n",
    "                     parse_dates=True).loc['1950':'2019'].rename(columns=str.lower))\n",
    "print(sp500_stooq.info())"
   ]
  },
  {
   "cell_type": "code",
   "execution_count": 28,
   "id": "b18c1466-1322-4f3b-917a-dc69d2e577e8",
   "metadata": {},
   "outputs": [],
   "source": [
    "with pd.HDFStore(DATA_STORE) as store:\n",
    "    store.put('sp500/stooq', sp500_stooq)"
   ]
  },
  {
   "cell_type": "markdown",
   "id": "8340ec09-5ca4-407f-8ba8-0a46ccd03130",
   "metadata": {},
   "source": [
    "### S&P500 Consitiuents"
   ]
  },
  {
   "cell_type": "code",
   "execution_count": 29,
   "id": "849d70cd-3872-4046-bccf-f5773ad38285",
   "metadata": {},
   "outputs": [],
   "source": [
    "url = 'https://en.wikipedia.org/wiki/List_of_S%26P_500_companies'\n",
    "df = pd.read_html(url, header=0)[0]"
   ]
  },
  {
   "cell_type": "code",
   "execution_count": 30,
   "id": "7d8a8b6e-fce2-49fd-a110-ade62abf2c2e",
   "metadata": {},
   "outputs": [
    {
     "data": {
      "text/html": [
       "<div>\n",
       "<style scoped>\n",
       "    .dataframe tbody tr th:only-of-type {\n",
       "        vertical-align: middle;\n",
       "    }\n",
       "\n",
       "    .dataframe tbody tr th {\n",
       "        vertical-align: top;\n",
       "    }\n",
       "\n",
       "    .dataframe thead th {\n",
       "        text-align: right;\n",
       "    }\n",
       "</style>\n",
       "<table border=\"1\" class=\"dataframe\">\n",
       "  <thead>\n",
       "    <tr style=\"text-align: right;\">\n",
       "      <th></th>\n",
       "      <th>Symbol</th>\n",
       "      <th>Security</th>\n",
       "      <th>GICS Sector</th>\n",
       "      <th>GICS Sub-Industry</th>\n",
       "      <th>Headquarters Location</th>\n",
       "      <th>Date added</th>\n",
       "      <th>CIK</th>\n",
       "      <th>Founded</th>\n",
       "    </tr>\n",
       "  </thead>\n",
       "  <tbody>\n",
       "    <tr>\n",
       "      <th>0</th>\n",
       "      <td>MMM</td>\n",
       "      <td>3M</td>\n",
       "      <td>Industrials</td>\n",
       "      <td>Industrial Conglomerates</td>\n",
       "      <td>Saint Paul, Minnesota</td>\n",
       "      <td>1957-03-04</td>\n",
       "      <td>66740</td>\n",
       "      <td>1902</td>\n",
       "    </tr>\n",
       "    <tr>\n",
       "      <th>1</th>\n",
       "      <td>AOS</td>\n",
       "      <td>A. O. Smith</td>\n",
       "      <td>Industrials</td>\n",
       "      <td>Building Products</td>\n",
       "      <td>Milwaukee, Wisconsin</td>\n",
       "      <td>2017-07-26</td>\n",
       "      <td>91142</td>\n",
       "      <td>1916</td>\n",
       "    </tr>\n",
       "    <tr>\n",
       "      <th>2</th>\n",
       "      <td>ABT</td>\n",
       "      <td>Abbott Laboratories</td>\n",
       "      <td>Health Care</td>\n",
       "      <td>Health Care Equipment</td>\n",
       "      <td>North Chicago, Illinois</td>\n",
       "      <td>1957-03-04</td>\n",
       "      <td>1800</td>\n",
       "      <td>1888</td>\n",
       "    </tr>\n",
       "    <tr>\n",
       "      <th>3</th>\n",
       "      <td>ABBV</td>\n",
       "      <td>AbbVie</td>\n",
       "      <td>Health Care</td>\n",
       "      <td>Biotechnology</td>\n",
       "      <td>North Chicago, Illinois</td>\n",
       "      <td>2012-12-31</td>\n",
       "      <td>1551152</td>\n",
       "      <td>2013 (1888)</td>\n",
       "    </tr>\n",
       "    <tr>\n",
       "      <th>4</th>\n",
       "      <td>ACN</td>\n",
       "      <td>Accenture</td>\n",
       "      <td>Information Technology</td>\n",
       "      <td>IT Consulting &amp; Other Services</td>\n",
       "      <td>Dublin, Ireland</td>\n",
       "      <td>2011-07-06</td>\n",
       "      <td>1467373</td>\n",
       "      <td>1989</td>\n",
       "    </tr>\n",
       "  </tbody>\n",
       "</table>\n",
       "</div>"
      ],
      "text/plain": [
       "  Symbol             Security             GICS Sector               GICS Sub-Industry    Headquarters Location  Date added      CIK      Founded\n",
       "0    MMM                   3M             Industrials        Industrial Conglomerates    Saint Paul, Minnesota  1957-03-04    66740         1902\n",
       "1    AOS          A. O. Smith             Industrials               Building Products     Milwaukee, Wisconsin  2017-07-26    91142         1916\n",
       "2    ABT  Abbott Laboratories             Health Care           Health Care Equipment  North Chicago, Illinois  1957-03-04     1800         1888\n",
       "3   ABBV               AbbVie             Health Care                   Biotechnology  North Chicago, Illinois  2012-12-31  1551152  2013 (1888)\n",
       "4    ACN            Accenture  Information Technology  IT Consulting & Other Services          Dublin, Ireland  2011-07-06  1467373         1989"
      ]
     },
     "execution_count": 30,
     "metadata": {},
     "output_type": "execute_result"
    }
   ],
   "source": [
    "df.head()"
   ]
  },
  {
   "cell_type": "code",
   "execution_count": 33,
   "id": "5cc01604-dc66-436b-8ed8-a75a5bd3a127",
   "metadata": {},
   "outputs": [],
   "source": [
    "df.columns = ['ticker', 'name', 'gics_sector', 'gics_sub_industry',\n",
    "              'location', 'first_added', 'cik', 'founded']\n",
    "df = df.set_index('ticker')"
   ]
  },
  {
   "cell_type": "code",
   "execution_count": 35,
   "id": "0efc5314-40eb-4436-b6e2-65f7abca9141",
   "metadata": {},
   "outputs": [
    {
     "name": "stdout",
     "output_type": "stream",
     "text": [
      "<class 'pandas.core.frame.DataFrame'>\n",
      "Index: 503 entries, MMM to ZTS\n",
      "Data columns (total 7 columns):\n",
      " #   Column             Non-Null Count  Dtype \n",
      "---  ------             --------------  ----- \n",
      " 0   name               503 non-null    object\n",
      " 1   gics_sector        503 non-null    object\n",
      " 2   gics_sub_industry  503 non-null    object\n",
      " 3   location           503 non-null    object\n",
      " 4   first_added        503 non-null    object\n",
      " 5   cik                503 non-null    int64 \n",
      " 6   founded            503 non-null    object\n",
      "dtypes: int64(1), object(6)\n",
      "memory usage: 31.4+ KB\n",
      "None\n"
     ]
    }
   ],
   "source": [
    "print(df.info())"
   ]
  },
  {
   "cell_type": "code",
   "execution_count": 36,
   "id": "c7e5d30e-f247-4ad8-8d05-beaf7908158e",
   "metadata": {},
   "outputs": [],
   "source": [
    "with pd.HDFStore(DATA_STORE) as store:\n",
    "    store.put('sp500/stocks', df)"
   ]
  },
  {
   "cell_type": "markdown",
   "id": "afe6a51a-d348-43f5-b672-1a1ece81ab28",
   "metadata": {},
   "source": [
    "### Metadata on US-traded companies"
   ]
  },
  {
   "cell_type": "code",
   "execution_count": 38,
   "id": "e2ca0a7a-9a8a-4eff-b8d5-6ede7166e252",
   "metadata": {},
   "outputs": [],
   "source": [
    "NASDAQ = pd.read_csv(\"NASDAQ.csv\")\n",
    "AMEX = pd.read_csv(\"AMEX.csv\")\n",
    "NYSE = pd.read_csv(\"NYSE.csv\")"
   ]
  },
  {
   "cell_type": "code",
   "execution_count": 45,
   "id": "b668f879-6425-4e6e-938b-9d716626f705",
   "metadata": {},
   "outputs": [],
   "source": [
    "df = pd.concat([NASDAQ, AMEX, NYSE]).dropna(how=\"all\", axis=1)"
   ]
  },
  {
   "cell_type": "code",
   "execution_count": 46,
   "id": "0940cfe7-834f-4499-9c23-5048369260b6",
   "metadata": {},
   "outputs": [
    {
     "data": {
      "text/html": [
       "<div>\n",
       "<style scoped>\n",
       "    .dataframe tbody tr th:only-of-type {\n",
       "        vertical-align: middle;\n",
       "    }\n",
       "\n",
       "    .dataframe tbody tr th {\n",
       "        vertical-align: top;\n",
       "    }\n",
       "\n",
       "    .dataframe thead th {\n",
       "        text-align: right;\n",
       "    }\n",
       "</style>\n",
       "<table border=\"1\" class=\"dataframe\">\n",
       "  <thead>\n",
       "    <tr style=\"text-align: right;\">\n",
       "      <th></th>\n",
       "      <th>Symbol</th>\n",
       "      <th>Name</th>\n",
       "      <th>Last Sale</th>\n",
       "      <th>Net Change</th>\n",
       "      <th>% Change</th>\n",
       "      <th>Market Cap</th>\n",
       "      <th>Country</th>\n",
       "      <th>IPO Year</th>\n",
       "      <th>Volume</th>\n",
       "      <th>Sector</th>\n",
       "      <th>Industry</th>\n",
       "    </tr>\n",
       "  </thead>\n",
       "  <tbody>\n",
       "    <tr>\n",
       "      <th>0</th>\n",
       "      <td>AACG</td>\n",
       "      <td>ATA Creativity Global American Depositary Shares</td>\n",
       "      <td>$0.59</td>\n",
       "      <td>-0.0022</td>\n",
       "      <td>-0.371%</td>\n",
       "      <td>1.888008e+07</td>\n",
       "      <td>China</td>\n",
       "      <td>2008.0</td>\n",
       "      <td>6116</td>\n",
       "      <td>Real Estate</td>\n",
       "      <td>Other Consumer Services</td>\n",
       "    </tr>\n",
       "    <tr>\n",
       "      <th>1</th>\n",
       "      <td>AADI</td>\n",
       "      <td>Aadi Bioscience Inc. Common Stock</td>\n",
       "      <td>$1.67</td>\n",
       "      <td>-0.1400</td>\n",
       "      <td>-7.735%</td>\n",
       "      <td>4.110677e+07</td>\n",
       "      <td>United States</td>\n",
       "      <td>NaN</td>\n",
       "      <td>29877</td>\n",
       "      <td>Health Care</td>\n",
       "      <td>Biotechnology: Pharmaceutical Preparations</td>\n",
       "    </tr>\n",
       "    <tr>\n",
       "      <th>2</th>\n",
       "      <td>AAGR</td>\n",
       "      <td>African Agriculture Holdings Inc. Common Stock</td>\n",
       "      <td>$0.138</td>\n",
       "      <td>0.0050</td>\n",
       "      <td>3.759%</td>\n",
       "      <td>7.985623e+06</td>\n",
       "      <td>United States</td>\n",
       "      <td>2021.0</td>\n",
       "      <td>31035</td>\n",
       "      <td>Consumer Staples</td>\n",
       "      <td>Farming/Seeds/Milling</td>\n",
       "    </tr>\n",
       "    <tr>\n",
       "      <th>3</th>\n",
       "      <td>AAGRW</td>\n",
       "      <td>African Agriculture Holdings Inc. Warrant</td>\n",
       "      <td>$0.009</td>\n",
       "      <td>0.0000</td>\n",
       "      <td>0.00%</td>\n",
       "      <td>5.208010e+05</td>\n",
       "      <td>United States</td>\n",
       "      <td>2021.0</td>\n",
       "      <td>2600</td>\n",
       "      <td>Consumer Staples</td>\n",
       "      <td>Farming/Seeds/Milling</td>\n",
       "    </tr>\n",
       "    <tr>\n",
       "      <th>4</th>\n",
       "      <td>AAL</td>\n",
       "      <td>American Airlines Group Inc. Common Stock</td>\n",
       "      <td>$10.61</td>\n",
       "      <td>-0.0100</td>\n",
       "      <td>-0.094%</td>\n",
       "      <td>6.967629e+09</td>\n",
       "      <td>United States</td>\n",
       "      <td>NaN</td>\n",
       "      <td>3326786</td>\n",
       "      <td>Consumer Discretionary</td>\n",
       "      <td>Air Freight/Delivery Services</td>\n",
       "    </tr>\n",
       "    <tr>\n",
       "      <th>...</th>\n",
       "      <td>...</td>\n",
       "      <td>...</td>\n",
       "      <td>...</td>\n",
       "      <td>...</td>\n",
       "      <td>...</td>\n",
       "      <td>...</td>\n",
       "      <td>...</td>\n",
       "      <td>...</td>\n",
       "      <td>...</td>\n",
       "      <td>...</td>\n",
       "      <td>...</td>\n",
       "    </tr>\n",
       "    <tr>\n",
       "      <th>2775</th>\n",
       "      <td>ZTR</td>\n",
       "      <td>Virtus Total Return Fund Inc.</td>\n",
       "      <td>$5.9097</td>\n",
       "      <td>-0.0166</td>\n",
       "      <td>-0.28%</td>\n",
       "      <td>0.000000e+00</td>\n",
       "      <td>United States</td>\n",
       "      <td>1988.0</td>\n",
       "      <td>36752</td>\n",
       "      <td>Finance</td>\n",
       "      <td>Investment Managers</td>\n",
       "    </tr>\n",
       "    <tr>\n",
       "      <th>2776</th>\n",
       "      <td>ZTS</td>\n",
       "      <td>Zoetis Inc. Class A Common Stock</td>\n",
       "      <td>$184.295</td>\n",
       "      <td>0.8050</td>\n",
       "      <td>0.439%</td>\n",
       "      <td>8.349503e+10</td>\n",
       "      <td>United States</td>\n",
       "      <td>2013.0</td>\n",
       "      <td>529044</td>\n",
       "      <td>Health Care</td>\n",
       "      <td>Biotechnology: Pharmaceutical Preparations</td>\n",
       "    </tr>\n",
       "    <tr>\n",
       "      <th>2777</th>\n",
       "      <td>ZUO</td>\n",
       "      <td>Zuora Inc. Class A Common Stock</td>\n",
       "      <td>$8.64</td>\n",
       "      <td>-0.1500</td>\n",
       "      <td>-1.706%</td>\n",
       "      <td>1.308960e+09</td>\n",
       "      <td>United States</td>\n",
       "      <td>2018.0</td>\n",
       "      <td>146903</td>\n",
       "      <td>Technology</td>\n",
       "      <td>Computer Software: Prepackaged Software</td>\n",
       "    </tr>\n",
       "    <tr>\n",
       "      <th>2778</th>\n",
       "      <td>ZVIA</td>\n",
       "      <td>Zevia PBC Class A Common Stock</td>\n",
       "      <td>$0.9801</td>\n",
       "      <td>-0.0299</td>\n",
       "      <td>-2.96%</td>\n",
       "      <td>7.126562e+07</td>\n",
       "      <td>United States</td>\n",
       "      <td>2021.0</td>\n",
       "      <td>67401</td>\n",
       "      <td>Consumer Staples</td>\n",
       "      <td>Beverages (Production/Distribution)</td>\n",
       "    </tr>\n",
       "    <tr>\n",
       "      <th>2779</th>\n",
       "      <td>ZWS</td>\n",
       "      <td>Zurn Elkay Water Solutions Corporation Common ...</td>\n",
       "      <td>$31.55</td>\n",
       "      <td>-0.8800</td>\n",
       "      <td>-2.714%</td>\n",
       "      <td>5.392794e+09</td>\n",
       "      <td>United States</td>\n",
       "      <td>2012.0</td>\n",
       "      <td>72842</td>\n",
       "      <td>Industrials</td>\n",
       "      <td>Industrial Machinery/Components</td>\n",
       "    </tr>\n",
       "  </tbody>\n",
       "</table>\n",
       "<p>6972 rows × 11 columns</p>\n",
       "</div>"
      ],
      "text/plain": [
       "     Symbol                                               Name Last Sale  Net Change % Change    Market Cap        Country  IPO Year   Volume                  Sector                                    Industry\n",
       "0      AACG   ATA Creativity Global American Depositary Shares     $0.59     -0.0022  -0.371%  1.888008e+07          China    2008.0     6116             Real Estate                     Other Consumer Services\n",
       "1      AADI                  Aadi Bioscience Inc. Common Stock     $1.67     -0.1400  -7.735%  4.110677e+07  United States       NaN    29877             Health Care  Biotechnology: Pharmaceutical Preparations\n",
       "2      AAGR     African Agriculture Holdings Inc. Common Stock    $0.138      0.0050   3.759%  7.985623e+06  United States    2021.0    31035        Consumer Staples                       Farming/Seeds/Milling\n",
       "3     AAGRW          African Agriculture Holdings Inc. Warrant    $0.009      0.0000    0.00%  5.208010e+05  United States    2021.0     2600        Consumer Staples                       Farming/Seeds/Milling\n",
       "4       AAL          American Airlines Group Inc. Common Stock    $10.61     -0.0100  -0.094%  6.967629e+09  United States       NaN  3326786  Consumer Discretionary               Air Freight/Delivery Services\n",
       "...     ...                                                ...       ...         ...      ...           ...            ...       ...      ...                     ...                                         ...\n",
       "2775    ZTR                      Virtus Total Return Fund Inc.   $5.9097     -0.0166   -0.28%  0.000000e+00  United States    1988.0    36752                 Finance                         Investment Managers\n",
       "2776    ZTS                   Zoetis Inc. Class A Common Stock  $184.295      0.8050   0.439%  8.349503e+10  United States    2013.0   529044             Health Care  Biotechnology: Pharmaceutical Preparations\n",
       "2777    ZUO                    Zuora Inc. Class A Common Stock     $8.64     -0.1500  -1.706%  1.308960e+09  United States    2018.0   146903              Technology     Computer Software: Prepackaged Software\n",
       "2778   ZVIA                     Zevia PBC Class A Common Stock   $0.9801     -0.0299   -2.96%  7.126562e+07  United States    2021.0    67401        Consumer Staples         Beverages (Production/Distribution)\n",
       "2779    ZWS  Zurn Elkay Water Solutions Corporation Common ...    $31.55     -0.8800  -2.714%  5.392794e+09  United States    2012.0    72842             Industrials             Industrial Machinery/Components\n",
       "\n",
       "[6972 rows x 11 columns]"
      ]
     },
     "execution_count": 46,
     "metadata": {},
     "output_type": "execute_result"
    }
   ],
   "source": [
    "df"
   ]
  },
  {
   "cell_type": "code",
   "execution_count": 48,
   "id": "68535558-e9f6-4065-8f06-e0041cb60541",
   "metadata": {},
   "outputs": [],
   "source": [
    "df = df.rename(columns=str.lower).set_index('symbol')"
   ]
  },
  {
   "cell_type": "code",
   "execution_count": 52,
   "id": "d59e6323-72f8-4877-b824-81d6a88156d1",
   "metadata": {},
   "outputs": [],
   "source": [
    "df = df.rename(columns={\"market cap\":\"marketcap\"})"
   ]
  },
  {
   "cell_type": "code",
   "execution_count": 53,
   "id": "3433e9b4-983f-4042-aaf1-bd90e2842024",
   "metadata": {},
   "outputs": [
    {
     "data": {
      "text/html": [
       "<div>\n",
       "<style scoped>\n",
       "    .dataframe tbody tr th:only-of-type {\n",
       "        vertical-align: middle;\n",
       "    }\n",
       "\n",
       "    .dataframe tbody tr th {\n",
       "        vertical-align: top;\n",
       "    }\n",
       "\n",
       "    .dataframe thead th {\n",
       "        text-align: right;\n",
       "    }\n",
       "</style>\n",
       "<table border=\"1\" class=\"dataframe\">\n",
       "  <thead>\n",
       "    <tr style=\"text-align: right;\">\n",
       "      <th></th>\n",
       "      <th>name</th>\n",
       "      <th>last sale</th>\n",
       "      <th>net change</th>\n",
       "      <th>% change</th>\n",
       "      <th>marketcap</th>\n",
       "      <th>country</th>\n",
       "      <th>ipo year</th>\n",
       "      <th>volume</th>\n",
       "      <th>sector</th>\n",
       "      <th>industry</th>\n",
       "    </tr>\n",
       "    <tr>\n",
       "      <th>symbol</th>\n",
       "      <th></th>\n",
       "      <th></th>\n",
       "      <th></th>\n",
       "      <th></th>\n",
       "      <th></th>\n",
       "      <th></th>\n",
       "      <th></th>\n",
       "      <th></th>\n",
       "      <th></th>\n",
       "      <th></th>\n",
       "    </tr>\n",
       "  </thead>\n",
       "  <tbody>\n",
       "    <tr>\n",
       "      <th>AACG</th>\n",
       "      <td>ATA Creativity Global American Depositary Shares</td>\n",
       "      <td>$0.59</td>\n",
       "      <td>-0.0022</td>\n",
       "      <td>-0.371%</td>\n",
       "      <td>1.888008e+07</td>\n",
       "      <td>China</td>\n",
       "      <td>2008.0</td>\n",
       "      <td>6116</td>\n",
       "      <td>Real Estate</td>\n",
       "      <td>Other Consumer Services</td>\n",
       "    </tr>\n",
       "    <tr>\n",
       "      <th>AADI</th>\n",
       "      <td>Aadi Bioscience Inc. Common Stock</td>\n",
       "      <td>$1.67</td>\n",
       "      <td>-0.1400</td>\n",
       "      <td>-7.735%</td>\n",
       "      <td>4.110677e+07</td>\n",
       "      <td>United States</td>\n",
       "      <td>NaN</td>\n",
       "      <td>29877</td>\n",
       "      <td>Health Care</td>\n",
       "      <td>Biotechnology: Pharmaceutical Preparations</td>\n",
       "    </tr>\n",
       "    <tr>\n",
       "      <th>AAGR</th>\n",
       "      <td>African Agriculture Holdings Inc. Common Stock</td>\n",
       "      <td>$0.138</td>\n",
       "      <td>0.0050</td>\n",
       "      <td>3.759%</td>\n",
       "      <td>7.985623e+06</td>\n",
       "      <td>United States</td>\n",
       "      <td>2021.0</td>\n",
       "      <td>31035</td>\n",
       "      <td>Consumer Staples</td>\n",
       "      <td>Farming/Seeds/Milling</td>\n",
       "    </tr>\n",
       "    <tr>\n",
       "      <th>AAGRW</th>\n",
       "      <td>African Agriculture Holdings Inc. Warrant</td>\n",
       "      <td>$0.009</td>\n",
       "      <td>0.0000</td>\n",
       "      <td>0.00%</td>\n",
       "      <td>5.208010e+05</td>\n",
       "      <td>United States</td>\n",
       "      <td>2021.0</td>\n",
       "      <td>2600</td>\n",
       "      <td>Consumer Staples</td>\n",
       "      <td>Farming/Seeds/Milling</td>\n",
       "    </tr>\n",
       "    <tr>\n",
       "      <th>AAL</th>\n",
       "      <td>American Airlines Group Inc. Common Stock</td>\n",
       "      <td>$10.61</td>\n",
       "      <td>-0.0100</td>\n",
       "      <td>-0.094%</td>\n",
       "      <td>6.967629e+09</td>\n",
       "      <td>United States</td>\n",
       "      <td>NaN</td>\n",
       "      <td>3326786</td>\n",
       "      <td>Consumer Discretionary</td>\n",
       "      <td>Air Freight/Delivery Services</td>\n",
       "    </tr>\n",
       "  </tbody>\n",
       "</table>\n",
       "</div>"
      ],
      "text/plain": [
       "                                                    name last sale  net change % change     marketcap        country  ipo year   volume                  sector                                    industry\n",
       "symbol                                                                                                                                                                                                     \n",
       "AACG    ATA Creativity Global American Depositary Shares     $0.59     -0.0022  -0.371%  1.888008e+07          China    2008.0     6116             Real Estate                     Other Consumer Services\n",
       "AADI                   Aadi Bioscience Inc. Common Stock     $1.67     -0.1400  -7.735%  4.110677e+07  United States       NaN    29877             Health Care  Biotechnology: Pharmaceutical Preparations\n",
       "AAGR      African Agriculture Holdings Inc. Common Stock    $0.138      0.0050   3.759%  7.985623e+06  United States    2021.0    31035        Consumer Staples                       Farming/Seeds/Milling\n",
       "AAGRW          African Agriculture Holdings Inc. Warrant    $0.009      0.0000    0.00%  5.208010e+05  United States    2021.0     2600        Consumer Staples                       Farming/Seeds/Milling\n",
       "AAL            American Airlines Group Inc. Common Stock    $10.61     -0.0100  -0.094%  6.967629e+09  United States       NaN  3326786  Consumer Discretionary               Air Freight/Delivery Services"
      ]
     },
     "execution_count": 53,
     "metadata": {},
     "output_type": "execute_result"
    }
   ],
   "source": [
    "df.head()"
   ]
  },
  {
   "cell_type": "code",
   "execution_count": 54,
   "id": "03eded6d-d948-4334-aa7f-6e532f09c6cf",
   "metadata": {},
   "outputs": [],
   "source": [
    "df = df[~df.index.duplicated()]"
   ]
  },
  {
   "cell_type": "code",
   "execution_count": 55,
   "id": "9ed48acc-6fcb-4ec2-bfba-3165270dc251",
   "metadata": {},
   "outputs": [
    {
     "data": {
      "text/html": [
       "<div>\n",
       "<style scoped>\n",
       "    .dataframe tbody tr th:only-of-type {\n",
       "        vertical-align: middle;\n",
       "    }\n",
       "\n",
       "    .dataframe tbody tr th {\n",
       "        vertical-align: top;\n",
       "    }\n",
       "\n",
       "    .dataframe thead th {\n",
       "        text-align: right;\n",
       "    }\n",
       "</style>\n",
       "<table border=\"1\" class=\"dataframe\">\n",
       "  <thead>\n",
       "    <tr style=\"text-align: right;\">\n",
       "      <th></th>\n",
       "      <th>name</th>\n",
       "      <th>last sale</th>\n",
       "      <th>net change</th>\n",
       "      <th>% change</th>\n",
       "      <th>marketcap</th>\n",
       "      <th>country</th>\n",
       "      <th>ipo year</th>\n",
       "      <th>volume</th>\n",
       "      <th>sector</th>\n",
       "      <th>industry</th>\n",
       "    </tr>\n",
       "    <tr>\n",
       "      <th>symbol</th>\n",
       "      <th></th>\n",
       "      <th></th>\n",
       "      <th></th>\n",
       "      <th></th>\n",
       "      <th></th>\n",
       "      <th></th>\n",
       "      <th></th>\n",
       "      <th></th>\n",
       "      <th></th>\n",
       "      <th></th>\n",
       "    </tr>\n",
       "  </thead>\n",
       "  <tbody>\n",
       "    <tr>\n",
       "      <th>AACG</th>\n",
       "      <td>ATA Creativity Global American Depositary Shares</td>\n",
       "      <td>$0.59</td>\n",
       "      <td>-0.0022</td>\n",
       "      <td>-0.371%</td>\n",
       "      <td>1.888008e+07</td>\n",
       "      <td>China</td>\n",
       "      <td>2008.0</td>\n",
       "      <td>6116</td>\n",
       "      <td>Real Estate</td>\n",
       "      <td>Other Consumer Services</td>\n",
       "    </tr>\n",
       "    <tr>\n",
       "      <th>AADI</th>\n",
       "      <td>Aadi Bioscience Inc. Common Stock</td>\n",
       "      <td>$1.67</td>\n",
       "      <td>-0.1400</td>\n",
       "      <td>-7.735%</td>\n",
       "      <td>4.110677e+07</td>\n",
       "      <td>United States</td>\n",
       "      <td>NaN</td>\n",
       "      <td>29877</td>\n",
       "      <td>Health Care</td>\n",
       "      <td>Biotechnology: Pharmaceutical Preparations</td>\n",
       "    </tr>\n",
       "    <tr>\n",
       "      <th>AAGR</th>\n",
       "      <td>African Agriculture Holdings Inc. Common Stock</td>\n",
       "      <td>$0.138</td>\n",
       "      <td>0.0050</td>\n",
       "      <td>3.759%</td>\n",
       "      <td>7.985623e+06</td>\n",
       "      <td>United States</td>\n",
       "      <td>2021.0</td>\n",
       "      <td>31035</td>\n",
       "      <td>Consumer Staples</td>\n",
       "      <td>Farming/Seeds/Milling</td>\n",
       "    </tr>\n",
       "    <tr>\n",
       "      <th>AAGRW</th>\n",
       "      <td>African Agriculture Holdings Inc. Warrant</td>\n",
       "      <td>$0.009</td>\n",
       "      <td>0.0000</td>\n",
       "      <td>0.00%</td>\n",
       "      <td>5.208010e+05</td>\n",
       "      <td>United States</td>\n",
       "      <td>2021.0</td>\n",
       "      <td>2600</td>\n",
       "      <td>Consumer Staples</td>\n",
       "      <td>Farming/Seeds/Milling</td>\n",
       "    </tr>\n",
       "    <tr>\n",
       "      <th>AAL</th>\n",
       "      <td>American Airlines Group Inc. Common Stock</td>\n",
       "      <td>$10.61</td>\n",
       "      <td>-0.0100</td>\n",
       "      <td>-0.094%</td>\n",
       "      <td>6.967629e+09</td>\n",
       "      <td>United States</td>\n",
       "      <td>NaN</td>\n",
       "      <td>3326786</td>\n",
       "      <td>Consumer Discretionary</td>\n",
       "      <td>Air Freight/Delivery Services</td>\n",
       "    </tr>\n",
       "    <tr>\n",
       "      <th>...</th>\n",
       "      <td>...</td>\n",
       "      <td>...</td>\n",
       "      <td>...</td>\n",
       "      <td>...</td>\n",
       "      <td>...</td>\n",
       "      <td>...</td>\n",
       "      <td>...</td>\n",
       "      <td>...</td>\n",
       "      <td>...</td>\n",
       "      <td>...</td>\n",
       "    </tr>\n",
       "    <tr>\n",
       "      <th>ZTR</th>\n",
       "      <td>Virtus Total Return Fund Inc.</td>\n",
       "      <td>$5.9097</td>\n",
       "      <td>-0.0166</td>\n",
       "      <td>-0.28%</td>\n",
       "      <td>0.000000e+00</td>\n",
       "      <td>United States</td>\n",
       "      <td>1988.0</td>\n",
       "      <td>36752</td>\n",
       "      <td>Finance</td>\n",
       "      <td>Investment Managers</td>\n",
       "    </tr>\n",
       "    <tr>\n",
       "      <th>ZTS</th>\n",
       "      <td>Zoetis Inc. Class A Common Stock</td>\n",
       "      <td>$184.295</td>\n",
       "      <td>0.8050</td>\n",
       "      <td>0.439%</td>\n",
       "      <td>8.349503e+10</td>\n",
       "      <td>United States</td>\n",
       "      <td>2013.0</td>\n",
       "      <td>529044</td>\n",
       "      <td>Health Care</td>\n",
       "      <td>Biotechnology: Pharmaceutical Preparations</td>\n",
       "    </tr>\n",
       "    <tr>\n",
       "      <th>ZUO</th>\n",
       "      <td>Zuora Inc. Class A Common Stock</td>\n",
       "      <td>$8.64</td>\n",
       "      <td>-0.1500</td>\n",
       "      <td>-1.706%</td>\n",
       "      <td>1.308960e+09</td>\n",
       "      <td>United States</td>\n",
       "      <td>2018.0</td>\n",
       "      <td>146903</td>\n",
       "      <td>Technology</td>\n",
       "      <td>Computer Software: Prepackaged Software</td>\n",
       "    </tr>\n",
       "    <tr>\n",
       "      <th>ZVIA</th>\n",
       "      <td>Zevia PBC Class A Common Stock</td>\n",
       "      <td>$0.9801</td>\n",
       "      <td>-0.0299</td>\n",
       "      <td>-2.96%</td>\n",
       "      <td>7.126562e+07</td>\n",
       "      <td>United States</td>\n",
       "      <td>2021.0</td>\n",
       "      <td>67401</td>\n",
       "      <td>Consumer Staples</td>\n",
       "      <td>Beverages (Production/Distribution)</td>\n",
       "    </tr>\n",
       "    <tr>\n",
       "      <th>ZWS</th>\n",
       "      <td>Zurn Elkay Water Solutions Corporation Common ...</td>\n",
       "      <td>$31.55</td>\n",
       "      <td>-0.8800</td>\n",
       "      <td>-2.714%</td>\n",
       "      <td>5.392794e+09</td>\n",
       "      <td>United States</td>\n",
       "      <td>2012.0</td>\n",
       "      <td>72842</td>\n",
       "      <td>Industrials</td>\n",
       "      <td>Industrial Machinery/Components</td>\n",
       "    </tr>\n",
       "  </tbody>\n",
       "</table>\n",
       "<p>6972 rows × 10 columns</p>\n",
       "</div>"
      ],
      "text/plain": [
       "                                                     name last sale  net change % change     marketcap        country  ipo year   volume                  sector                                    industry\n",
       "symbol                                                                                                                                                                                                      \n",
       "AACG     ATA Creativity Global American Depositary Shares     $0.59     -0.0022  -0.371%  1.888008e+07          China    2008.0     6116             Real Estate                     Other Consumer Services\n",
       "AADI                    Aadi Bioscience Inc. Common Stock     $1.67     -0.1400  -7.735%  4.110677e+07  United States       NaN    29877             Health Care  Biotechnology: Pharmaceutical Preparations\n",
       "AAGR       African Agriculture Holdings Inc. Common Stock    $0.138      0.0050   3.759%  7.985623e+06  United States    2021.0    31035        Consumer Staples                       Farming/Seeds/Milling\n",
       "AAGRW           African Agriculture Holdings Inc. Warrant    $0.009      0.0000    0.00%  5.208010e+05  United States    2021.0     2600        Consumer Staples                       Farming/Seeds/Milling\n",
       "AAL             American Airlines Group Inc. Common Stock    $10.61     -0.0100  -0.094%  6.967629e+09  United States       NaN  3326786  Consumer Discretionary               Air Freight/Delivery Services\n",
       "...                                                   ...       ...         ...      ...           ...            ...       ...      ...                     ...                                         ...\n",
       "ZTR                         Virtus Total Return Fund Inc.   $5.9097     -0.0166   -0.28%  0.000000e+00  United States    1988.0    36752                 Finance                         Investment Managers\n",
       "ZTS                      Zoetis Inc. Class A Common Stock  $184.295      0.8050   0.439%  8.349503e+10  United States    2013.0   529044             Health Care  Biotechnology: Pharmaceutical Preparations\n",
       "ZUO                       Zuora Inc. Class A Common Stock     $8.64     -0.1500  -1.706%  1.308960e+09  United States    2018.0   146903              Technology     Computer Software: Prepackaged Software\n",
       "ZVIA                       Zevia PBC Class A Common Stock   $0.9801     -0.0299   -2.96%  7.126562e+07  United States    2021.0    67401        Consumer Staples         Beverages (Production/Distribution)\n",
       "ZWS     Zurn Elkay Water Solutions Corporation Common ...    $31.55     -0.8800  -2.714%  5.392794e+09  United States    2012.0    72842             Industrials             Industrial Machinery/Components\n",
       "\n",
       "[6972 rows x 10 columns]"
      ]
     },
     "execution_count": 55,
     "metadata": {},
     "output_type": "execute_result"
    }
   ],
   "source": [
    "df"
   ]
  },
  {
   "cell_type": "code",
   "execution_count": 56,
   "id": "b4a6faa4-6646-438f-a51e-69fd1eec443b",
   "metadata": {},
   "outputs": [
    {
     "data": {
      "text/plain": [
       "count                6,576\n",
       "mean        11,443,373,944\n",
       "std         89,906,062,838\n",
       "min                      0\n",
       "10%                714,453\n",
       "20%             16,022,801\n",
       "30%             68,346,219\n",
       "40%            202,630,401\n",
       "50%            468,883,375\n",
       "60%          1,022,424,394\n",
       "70%          2,183,794,754\n",
       "80%          5,086,933,014\n",
       "90%         15,876,886,780\n",
       "max      3,425,492,066,100\n",
       "Name: marketcap, dtype: object"
      ]
     },
     "execution_count": 56,
     "metadata": {},
     "output_type": "execute_result"
    }
   ],
   "source": [
    "df.marketcap.describe(percentiles=np.arange(.1, 1, .1).round(1)).apply(lambda x: f'{int(x):,d}')"
   ]
  },
  {
   "cell_type": "code",
   "execution_count": 57,
   "id": "9a44c65f-16a8-4b09-9ee1-a4bff44e2363",
   "metadata": {},
   "outputs": [
    {
     "name": "stdout",
     "output_type": "stream",
     "text": [
      "<class 'pandas.core.frame.DataFrame'>\n",
      "RangeIndex: 6834 entries, 0 to 6833\n",
      "Data columns (total 7 columns):\n",
      " #   Column     Non-Null Count  Dtype  \n",
      "---  ------     --------------  -----  \n",
      " 0   ticker     6834 non-null   object \n",
      " 1   name       6834 non-null   object \n",
      " 2   lastsale   6718 non-null   float64\n",
      " 3   marketcap  5766 non-null   float64\n",
      " 4   ipoyear    3038 non-null   float64\n",
      " 5   sector     5288 non-null   object \n",
      " 6   industry   5288 non-null   object \n",
      "dtypes: float64(3), object(4)\n",
      "memory usage: 373.9+ KB\n"
     ]
    }
   ],
   "source": [
    "df = pd.read_csv('us_equities_meta_data.csv')\n",
    "df.info()"
   ]
  },
  {
   "cell_type": "code",
   "execution_count": 58,
   "id": "f07d85e5-838e-4318-a58a-ca222839d670",
   "metadata": {},
   "outputs": [],
   "source": [
    "with pd.HDFStore(DATA_STORE) as store:\n",
    "    store.put('us_equities/stocks', df.set_index('ticker'))"
   ]
  },
  {
   "cell_type": "markdown",
   "id": "3df13b9c-b92b-48b4-925e-d3ed5f9776f3",
   "metadata": {},
   "source": [
    "### MNIST Data"
   ]
  },
  {
   "cell_type": "code",
   "execution_count": 59,
   "id": "7814b73b-0f37-412a-9987-c77367e3a11e",
   "metadata": {},
   "outputs": [],
   "source": [
    "mnist = fetch_openml('mnist_784', version=1)"
   ]
  },
  {
   "cell_type": "code",
   "execution_count": 60,
   "id": "a3790274-10e5-4506-8352-12d9e59d30ce",
   "metadata": {},
   "outputs": [
    {
     "name": "stdout",
     "output_type": "stream",
     "text": [
      "**Author**: Yann LeCun, Corinna Cortes, Christopher J.C. Burges  \n",
      "**Source**: [MNIST Website](http://yann.lecun.com/exdb/mnist/) - Date unknown  \n",
      "**Please cite**:  \n",
      "\n",
      "The MNIST database of handwritten digits with 784 features, raw data available at: http://yann.lecun.com/exdb/mnist/. It can be split in a training set of the first 60,000 examples, and a test set of 10,000 examples  \n",
      "\n",
      "It is a subset of a larger set available from NIST. The digits have been size-normalized and centered in a fixed-size image. It is a good database for people who want to try learning techniques and pattern recognition methods on real-world data while spending minimal efforts on preprocessing and formatting. The original black and white (bilevel) images from NIST were size normalized to fit in a 20x20 pixel box while preserving their aspect ratio. The resulting images contain grey levels as a result of the anti-aliasing technique used by the normalization algorithm. the images were centered in a 28x28 image by computing the center of mass of the pixels, and translating the image so as to position this point at the center of the 28x28 field.  \n",
      "\n",
      "With some classification methods (particularly template-based methods, such as SVM and K-nearest neighbors), the error rate improves when the digits are centered by bounding box rather than center of mass. If you do this kind of pre-processing, you should report it in your publications. The MNIST database was constructed from NIST's NIST originally designated SD-3 as their training set and SD-1 as their test set. However, SD-3 is much cleaner and easier to recognize than SD-1. The reason for this can be found on the fact that SD-3 was collected among Census Bureau employees, while SD-1 was collected among high-school students. Drawing sensible conclusions from learning experiments requires that the result be independent of the choice of training set and test among the complete set of samples. Therefore it was necessary to build a new database by mixing NIST's datasets.  \n",
      "\n",
      "The MNIST training set is composed of 30,000 patterns from SD-3 and 30,000 patterns from SD-1. Our test set was composed of 5,000 patterns from SD-3 and 5,000 patterns from SD-1. The 60,000 pattern training set contained examples from approximately 250 writers. We made sure that the sets of writers of the training set and test set were disjoint. SD-1 contains 58,527 digit images written by 500 different writers. In contrast to SD-3, where blocks of data from each writer appeared in sequence, the data in SD-1 is scrambled. Writer identities for SD-1 is available and we used this information to unscramble the writers. We then split SD-1 in two: characters written by the first 250 writers went into our new training set. The remaining 250 writers were placed in our test set. Thus we had two sets with nearly 30,000 examples each. The new training set was completed with enough examples from SD-3, starting at pattern # 0, to make a full set of 60,000 training patterns. Similarly, the new test set was completed with SD-3 examples starting at pattern # 35,000 to make a full set with 60,000 test patterns. Only a subset of 10,000 test images (5,000 from SD-1 and 5,000 from SD-3) is available on this site. The full 60,000 sample training set is available.\n",
      "\n",
      "Downloaded from openml.org.\n"
     ]
    }
   ],
   "source": [
    "print(mnist.DESCR)"
   ]
  },
  {
   "cell_type": "code",
   "execution_count": 61,
   "id": "824b5470-6018-428d-bda7-9719ce39eba8",
   "metadata": {},
   "outputs": [
    {
     "data": {
      "text/plain": [
       "dict_keys(['data', 'target', 'frame', 'categories', 'feature_names', 'target_names', 'DESCR', 'details', 'url'])"
      ]
     },
     "execution_count": 61,
     "metadata": {},
     "output_type": "execute_result"
    }
   ],
   "source": [
    "mnist.keys()"
   ]
  },
  {
   "cell_type": "code",
   "execution_count": 62,
   "id": "d2d13cf1-8bd6-4367-9a46-29c125b4913a",
   "metadata": {},
   "outputs": [],
   "source": [
    "mnist_path = Path('mnist')\n",
    "if not mnist_path.exists():\n",
    "    mnist_path.mkdir()"
   ]
  },
  {
   "cell_type": "code",
   "execution_count": 63,
   "id": "7aeec36e-f6c7-43ea-b829-29abc91e78b4",
   "metadata": {},
   "outputs": [],
   "source": [
    "np.save(mnist_path / 'data', mnist.data.astype(np.uint8))\n",
    "np.save(mnist_path / 'labels', mnist.target.astype(np.uint8))"
   ]
  },
  {
   "cell_type": "markdown",
   "id": "11779196-7a37-4239-bbb0-4ec709b496ca",
   "metadata": {},
   "source": [
    "### Fashion MNIST Image Data"
   ]
  },
  {
   "cell_type": "code",
   "execution_count": 64,
   "id": "064e9896-4fa3-4987-86fd-e9bd99a26a24",
   "metadata": {},
   "outputs": [],
   "source": [
    "fashion_mnist = fetch_openml(name='Fashion-MNIST')"
   ]
  },
  {
   "cell_type": "code",
   "execution_count": 65,
   "id": "acc3c9f8-86cd-4a13-8490-a7389886cda0",
   "metadata": {},
   "outputs": [
    {
     "name": "stdout",
     "output_type": "stream",
     "text": [
      "**Author**: Han Xiao, Kashif Rasul, Roland Vollgraf  \n",
      "**Source**: [Zalando Research](https://github.com/zalandoresearch/fashion-mnist)  \n",
      "**Please cite**: Han Xiao and Kashif Rasul and Roland Vollgraf, Fashion-MNIST: a Novel Image Dataset for Benchmarking Machine Learning Algorithms, arXiv, cs.LG/1708.07747  \n",
      "\n",
      "Fashion-MNIST is a dataset of Zalando's article images, consisting of a training set of 60,000 examples and a test set of 10,000 examples. Each example is a 28x28 grayscale image, associated with a label from 10 classes. Fashion-MNIST is intended to serve as a direct drop-in replacement for the original MNIST dataset for benchmarking machine learning algorithms. It shares the same image size and structure of training and testing splits. \n",
      "\n",
      "Raw data available at: https://github.com/zalandoresearch/fashion-mnist\n",
      "\n",
      "### Target classes\n",
      "Each training and test example is assigned to one of the following labels:\n",
      "Label  Description  \n",
      "0  T-shirt/top  \n",
      "1  Trouser  \n",
      "2  Pullover  \n",
      "3  Dress  \n",
      "4  Coat  \n",
      "5  Sandal  \n",
      "6  Shirt  \n",
      "7  Sneaker  \n",
      "8  Bag  \n",
      "9  Ankle boot\n",
      "\n",
      "Downloaded from openml.org.\n"
     ]
    }
   ],
   "source": [
    "print(fashion_mnist.DESCR)"
   ]
  },
  {
   "cell_type": "code",
   "execution_count": 66,
   "id": "6be73822-6b73-4025-9fab-a8acdf0ead2e",
   "metadata": {},
   "outputs": [],
   "source": [
    "label_dict = {0: 'T-shirt/top',\n",
    "              1: 'Trouser',\n",
    "              2: 'Pullover',\n",
    "              3: 'Dress',\n",
    "              4: 'Coat',\n",
    "              5: 'Sandal',\n",
    "              6: 'Shirt',\n",
    "              7: 'Sneaker',\n",
    "              8: 'Bag',\n",
    "              9: 'Ankle boot'}"
   ]
  },
  {
   "cell_type": "code",
   "execution_count": 67,
   "id": "57c2363b-94cd-40ec-88a8-33999af35b37",
   "metadata": {},
   "outputs": [],
   "source": [
    "fashion_path = Path('fashion_mnist')\n",
    "if not fashion_path.exists():\n",
    "    fashion_path.mkdir()"
   ]
  },
  {
   "cell_type": "code",
   "execution_count": 68,
   "id": "bbd9448a-a938-483e-b428-411defcb1cbb",
   "metadata": {},
   "outputs": [],
   "source": [
    "pd.Series(label_dict).to_csv(fashion_path / 'label_dict.csv', index=False, header=None)"
   ]
  },
  {
   "cell_type": "code",
   "execution_count": 69,
   "id": "e38e1cd5-c165-4ba4-9cd5-18856c4769e9",
   "metadata": {},
   "outputs": [],
   "source": [
    "np.save(fashion_path / 'data', fashion_mnist.data.astype(np.uint8))\n",
    "np.save(fashion_path / 'labels', fashion_mnist.target.astype(np.uint8))"
   ]
  },
  {
   "cell_type": "code",
   "execution_count": null,
   "id": "3d4e1f27-46d6-429c-8609-39fdb67128eb",
   "metadata": {},
   "outputs": [],
   "source": []
  }
 ],
 "metadata": {
  "kernelspec": {
   "display_name": "Python 3 (ipykernel)",
   "language": "python",
   "name": "python3"
  },
  "language_info": {
   "codemirror_mode": {
    "name": "ipython",
    "version": 3
   },
   "file_extension": ".py",
   "mimetype": "text/x-python",
   "name": "python",
   "nbconvert_exporter": "python",
   "pygments_lexer": "ipython3",
   "version": "3.8.19"
  }
 },
 "nbformat": 4,
 "nbformat_minor": 5
}
